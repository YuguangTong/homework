{
 "cells": [
  {
   "cell_type": "markdown",
   "metadata": {},
   "source": [
    "# Homework 1"
   ]
  },
  {
   "cell_type": "markdown",
   "metadata": {},
   "source": [
    "## Behavior Cloning"
   ]
  },
  {
   "cell_type": "markdown",
   "metadata": {},
   "source": [
    "### #1 Implementation\n",
    "See `behavior_cloning.py`. To run \n",
    "```\n",
    "python behavior_cloning.py Hopper-v2\n",
    "```"
   ]
  },
  {
   "cell_type": "markdown",
   "metadata": {},
   "source": [
    "### #2 Result"
   ]
  },
  {
   "cell_type": "markdown",
   "metadata": {},
   "source": [
    "We trained policy using behavior-cloning (BC) on all the tasks. Table 1 demonstrates that behavior cloning can work very well on the task `Hopper-v2`. However, table 2 shows that the same algorithm failed on a more complex task `Humanoid-v2`. \n",
    "\n",
    "```\n",
    "------------------------------------------\n",
    "| policy            | mean rewards | std |\n",
    "------------------------------------------\n",
    "| behavior-cloning  | 3650         | 123 |\n",
    "| expert            | 3778         | 4   |\n",
    "------------------------------------------\n",
    "```\n",
    "***Table 1*** Comparison of the behavior-cloing model and the expert policy on the Hopper-v2 task. \n",
    "\n",
    "\n",
    "```\n",
    "------------------------------------------\n",
    "| policy            | mean rewards | std |\n",
    "------------------------------------------\n",
    "| behavior-cloning  | 811          | 266 |\n",
    "| expert            | 10415        | 64  |\n",
    "------------------------------------------\n",
    "\n",
    "```\n",
    "***Table 2*** Comparison of the behavior-cloing model and the expert policy on the Humanoid-v2 task. \n",
    "\n",
    "In the above tasks, we train the BC policies using the same neural network structure and the same training procedure:\n",
    "- Neural network Three hidden layers with dimension (64, 128, 64).\n",
    "- L2 regularization constant 1e-6.\n",
    "- L2 loss.\n",
    "- adam optimizer with constant learning rate 5e-4.\n",
    "- batch size 128. \n",
    "- 50000 batches.\n",
    "\n",
    "The training data are 10000 samples (10 rollouts) for all tasks. \n"
   ]
  },
  {
   "cell_type": "markdown",
   "metadata": {},
   "source": [
    "### #3 Hyperparameter tuning"
   ]
  },
  {
   "cell_type": "markdown",
   "metadata": {},
   "source": [
    "## DAgger"
   ]
  },
  {
   "cell_type": "markdown",
   "metadata": {},
   "source": [
    "### #1 Implementation"
   ]
  },
  {
   "cell_type": "markdown",
   "metadata": {},
   "source": [
    "See `dagger.py` for implementation. To run:\n",
    "```\n",
    "python dagger.py Humanoid-v2\n",
    "```"
   ]
  },
  {
   "cell_type": "markdown",
   "metadata": {},
   "source": [
    "### #2 Result"
   ]
  },
  {
   "cell_type": "code",
   "execution_count": 3,
   "metadata": {},
   "outputs": [],
   "source": [
    "import numpy as np\n",
    "import matplotlib.pyplot as plt\n",
    "%matplotlib inline"
   ]
  },
  {
   "cell_type": "code",
   "execution_count": 8,
   "metadata": {},
   "outputs": [],
   "source": [
    "reward = np.load('result/Humanoid-v2_dagger_learning_curve.npy').reshape(15, 15)\n",
    "r_mean = reward.mean(axis=1)\n",
    "r_std = reward.std(axis=1)"
   ]
  },
  {
   "cell_type": "code",
   "execution_count": 42,
   "metadata": {},
   "outputs": [
    {
     "data": {
      "image/png": "[encoded data removed]",
      "text/plain": [
       "<Figure size 576x432 with 1 Axes>"
      ]
     },
     "metadata": {},
     "output_type": "display_data"
    }
   ],
   "source": [
    "plt.figure(figsize=[8, 6])\n",
    "plt.errorbar(np.arange(len(r_mean)) + 1, r_mean, yerr=r_std, fmt='-ko', ecolor='g', capthick=1)\n",
    "plt.title('Humanoid-v2 learning curve', fontsize=20)\n",
    "plt.xlabel('DAgger iteration', fontsize=20)\n",
    "plt.ylabel('reward', fontsize=20)\n",
    "plt.xlim([0, 16])\n",
    "plt.ylim([0, 12000])\n",
    "plt.axhline(10415, color='r')\n",
    "plt.axhline(811, color='b')\n",
    "plt.text(1, 10800, 'expert policy', color='r', fontsize=20)\n",
    "plt.text(1, 1200, 'behavior cloning', color='b', fontsize=20)\n",
    "plt.show()\n",
    "# plt.savefig('result/dagger_humanoid_learning_curve.png', dpi=100)"
   ]
  },
  {
   "cell_type": "code",
   "execution_count": null,
   "metadata": {},
   "outputs": [],
   "source": []
  }
 ],
 "metadata": {
  "kernelspec": {
   "display_name": "Python3.6 (tf)",
   "language": "python",
   "name": "tf"
  },
  "language_info": {
   "codemirror_mode": {
    "name": "ipython",
    "version": 3
   },
   "file_extension": ".py",
   "mimetype": "text/x-python",
   "name": "python",
   "nbconvert_exporter": "python",
   "pygments_lexer": "ipython3",
   "version": "3.6.5"
  }
 },
 "nbformat": 4,
 "nbformat_minor": 2
}
